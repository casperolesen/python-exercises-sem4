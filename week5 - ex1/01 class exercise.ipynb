{
 "cells": [
  {
   "cell_type": "markdown",
   "metadata": {},
   "source": [
    "# Class exercise 1 ![](https://miro.medium.com/max/1266/1*Pb8oEA1nGIONsSJk7QSVzg.png)"
   ]
  },
  {
   "cell_type": "code",
   "execution_count": 1,
   "metadata": {},
   "outputs": [
    {
     "name": "stdout",
     "output_type": "stream",
     "text": [
      "write a number60.7\n",
      "write another number45.7\n",
      "2773.9900000000002\n"
     ]
    }
   ],
   "source": [
    "num_1 = float(input(\"write a number\"))\n",
    "num_2 = float(input(\"write another number\"))\n",
    "print(num_1 * num_2)"
   ]
  },
  {
   "cell_type": "code",
   "execution_count": 11,
   "metadata": {},
   "outputs": [
    {
     "name": "stdout",
     "output_type": "stream",
     "text": [
      "Names that starts with H:\n",
      "['Hanne', 'Hans']\n"
     ]
    }
   ],
   "source": [
    "names = ['Casper', 'Hanne', 'Hans', 'Claus', 'Lotte']\n",
    "names_with_h = [name for name in names if name.startswith('H')]\n",
    "print('Names that starts with H:')\n",
    "print(names_with_h)"
   ]
  },
  {
   "cell_type": "code",
   "execution_count": 12,
   "metadata": {},
   "outputs": [
    {
     "name": "stdout",
     "output_type": "stream",
     "text": [
      "Numbers from 1-100 to the power of 3:\n",
      "[1, 8, 27, 64, 125, 216, 343, 512, 729, 1000, 1331, 1728, 2197, 2744, 3375, 4096, 4913, 5832, 6859, 8000, 9261, 10648, 12167, 13824, 15625, 17576, 19683, 21952, 24389, 27000, 29791, 32768, 35937, 39304, 42875, 46656, 50653, 54872, 59319, 64000, 68921, 74088, 79507, 85184, 91125, 97336, 103823, 110592, 117649, 125000, 132651, 140608, 148877, 157464, 166375, 175616, 185193, 195112, 205379, 216000, 226981, 238328, 250047, 262144, 274625, 287496, 300763, 314432, 328509, 343000, 357911, 373248, 389017, 405224, 421875, 438976, 456533, 474552, 493039, 512000, 531441, 551368, 571787, 592704, 614125, 636056, 658503, 681472, 704969, 729000, 753571, 778688, 804357, 830584, 857375, 884736, 912673, 941192, 970299, 1000000]\n"
     ]
    }
   ],
   "source": [
    "print('Numbers from 1-100 to the power of 3:')\n",
    "print([i**3 for i in range(1, 101)])"
   ]
  },
  {
   "cell_type": "code",
   "execution_count": 14,
   "metadata": {},
   "outputs": [
    {
     "name": "stdout",
     "output_type": "stream",
     "text": [
      "List of tubles:\n",
      "[(6, 'Casper'), (5, 'Hanne'), (4, 'Hans'), (5, 'Claus'), (5, 'Lotte')]\n"
     ]
    }
   ],
   "source": [
    "names = ['Casper', 'Hanne', 'Hans', 'Claus', 'Lotte']\n",
    "tuples_names = [(len(name), name) for name in names]\n",
    "print('List of tubles:')\n",
    "print(tuples_names)"
   ]
  },
  {
   "cell_type": "code",
   "execution_count": 26,
   "metadata": {},
   "outputs": [
    {
     "name": "stdout",
     "output_type": "stream",
     "text": [
      "Numbers from a string\n",
      "['1', '2', '3', '4', '5', '6', '7']\n"
     ]
    }
   ],
   "source": [
    "string = 'a1b2c3d4e567'\n",
    "numbers_list = [char for char in string if char.isdigit()]\n",
    "print('Numbers from a string')\n",
    "print(numbers_list)"
   ]
  },
  {
   "cell_type": "code",
   "execution_count": 32,
   "metadata": {},
   "outputs": [
    {
     "name": "stdout",
     "output_type": "stream",
     "text": [
      "Combination from throwing 2 dice\n",
      "Possible combinations:  36\n",
      "[(1, 1), (1, 2), (1, 3), (1, 4), (1, 5), (1, 6), (2, 1), (2, 2), (2, 3), (2, 4), (2, 5), (2, 6), (3, 1), (3, 2), (3, 3), (3, 4), (3, 5), (3, 6), (4, 1), (4, 2), (4, 3), (4, 4), (4, 5), (4, 6), (5, 1), (5, 2), (5, 3), (5, 4), (5, 5), (5, 6), (6, 1), (6, 2), (6, 3), (6, 4), (6, 5), (6, 6)]\n"
     ]
    }
   ],
   "source": [
    "dice_combi = [(d1,d2) for d1 in range(1, 7) for d2 in range(1,7)]\n",
    "print('Combination from throwing 2 dices')\n",
    "print('Possible combinations: ', len(dice_combi))\n",
    "print(dice_combi)"
   ]
  },
  {
   "cell_type": "code",
   "execution_count": 33,
   "metadata": {},
   "outputs": [
    {
     "name": "stdout",
     "output_type": "stream",
     "text": [
      "[{'Casper': 6}, {'Hanne': 5}, {'Hans': 4}, {'Claus': 5}, {'Lotte': 5}]\n"
     ]
    }
   ],
   "source": [
    "names = ['Casper', 'Hanne', 'Hans', 'Claus', 'Lotte']\n",
    "names_dictionary = [{name: len(name)} for name in names]\n",
    "print('Dictionary with names and lenghts')\n",
    "print(names_dictionary)"
   ]
  },
  {
   "cell_type": "code",
   "execution_count": 36,
   "metadata": {},
   "outputs": [
    {
     "name": "stdout",
     "output_type": "stream",
     "text": [
      "Dictionary with numbers and squareroot\n",
      "[{1: 1.0}, {2: 1.4142135623730951}, {3: 1.7320508075688772}, {4: 2.0}, {5: 2.23606797749979}, {6: 2.449489742783178}, {7: 2.6457513110645907}, {8: 2.8284271247461903}, {9: 3.0}, {10: 3.1622776601683795}]\n"
     ]
    }
   ],
   "source": [
    "import math\n",
    "numbers_dictionary = [{number: math.sqrt(number)} for number in range(1, 11)]\n",
    "print('Dictionary with numbers and squareroot')\n",
    "print(numbers_dictionary)"
   ]
  },
  {
   "cell_type": "code",
   "execution_count": 44,
   "metadata": {},
   "outputs": [
    {
     "name": "stdout",
     "output_type": "stream",
     "text": [
      "{2, 3, 4, 5, 6, 7, 8, 9, 10, 11, 12}\n"
     ]
    }
   ],
   "source": [
    "#dice_combi_sum = [{d1+d2: 0} for d1 in range(1,7) for d2 in range(1,7)]\n",
    "#print(dice_combi_sum)\n",
    "dice_combi_set = set([d1+d2 for d1 in range(1,7) for d2 in range(1,7)])\n",
    "print(dice_combi_set)"
   ]
  },
  {
   "cell_type": "code",
   "execution_count": null,
   "metadata": {},
   "outputs": [],
   "source": []
  }
 ],
 "metadata": {
  "kernelspec": {
   "display_name": "Python 3",
   "language": "python",
   "name": "python3"
  },
  "language_info": {
   "codemirror_mode": {
    "name": "ipython",
    "version": 3
   },
   "file_extension": ".py",
   "mimetype": "text/x-python",
   "name": "python",
   "nbconvert_exporter": "python",
   "pygments_lexer": "ipython3",
   "version": "3.7.4"
  }
 },
 "nbformat": 4,
 "nbformat_minor": 2
}
